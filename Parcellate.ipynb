{
 "cells": [
  {
   "cell_type": "code",
   "execution_count": 1,
   "metadata": {},
   "outputs": [],
   "source": [
    "import cv2\n",
    "from matplotlib import pyplot as plt\n",
    "\n",
    "%matplotlib inline"
   ]
  },
  {
   "cell_type": "code",
   "execution_count": 2,
   "metadata": {},
   "outputs": [],
   "source": [
    "img = cv2.imread('/home/siddharth/Documents/BTP/Parcellation/Data/Segmented/test1.jpg')"
   ]
  },
  {
   "cell_type": "code",
   "execution_count": 3,
   "metadata": {},
   "outputs": [],
   "source": [
    "import numpy as np"
   ]
  },
  {
   "cell_type": "code",
   "execution_count": 4,
   "metadata": {},
   "outputs": [],
   "source": [
    "img_n = img.copy()"
   ]
  },
  {
   "cell_type": "code",
   "execution_count": 5,
   "metadata": {},
   "outputs": [
    {
     "data": {
      "text/plain": [
       "array([  0,   1,   2,   3,   4,   5,   6,  83, 148, 243, 250, 251, 252,\n",
       "       253, 254, 255], dtype=uint8)"
      ]
     },
     "execution_count": 5,
     "metadata": {},
     "output_type": "execute_result"
    }
   ],
   "source": [
    "np.unique(img)"
   ]
  },
  {
   "cell_type": "code",
   "execution_count": 6,
   "metadata": {},
   "outputs": [
    {
     "data": {
      "text/plain": [
       "<matplotlib.image.AxesImage at 0x7f454cf73fd0>"
      ]
     },
     "execution_count": 6,
     "metadata": {},
     "output_type": "execute_result"
    },
    {
     "data": {
      "image/png": "[encoded data removed]",
      "text/plain": [
       "<Figure size 432x288 with 1 Axes>"
      ]
     },
     "metadata": {},
     "output_type": "display_data"
    }
   ],
   "source": [
    "plt.imshow(img)"
   ]
  },
  {
   "cell_type": "code",
   "execution_count": 7,
   "metadata": {},
   "outputs": [
    {
     "data": {
      "text/plain": [
       "(128, 128, 3)"
      ]
     },
     "execution_count": 7,
     "metadata": {},
     "output_type": "execute_result"
    }
   ],
   "source": [
    "img.shape"
   ]
  },
  {
   "cell_type": "code",
   "execution_count": 8,
   "metadata": {},
   "outputs": [],
   "source": [
    "ret, b_img = cv2.threshold(img,127,255,cv2.THRESH_BINARY)"
   ]
  },
  {
   "cell_type": "code",
   "execution_count": 9,
   "metadata": {},
   "outputs": [
    {
     "data": {
      "text/plain": [
       "<matplotlib.image.AxesImage at 0x7f454ce8a710>"
      ]
     },
     "execution_count": 9,
     "metadata": {},
     "output_type": "execute_result"
    },
    {
     "data": {
      "image/png": "[encoded data removed]",
      "text/plain": [
       "<Figure size 432x288 with 1 Axes>"
      ]
     },
     "metadata": {},
     "output_type": "display_data"
    }
   ],
   "source": [
    "plt.imshow(b_img)\n",
    "#plt.imshow(img)"
   ]
  },
  {
   "cell_type": "code",
   "execution_count": null,
   "metadata": {},
   "outputs": [],
   "source": [
    "# b_imgi = np.rot90(b_img) # 180 inversion for inverted image"
   ]
  },
  {
   "cell_type": "code",
   "execution_count": 10,
   "metadata": {},
   "outputs": [],
   "source": [
    "horizontal_img = b_img.copy()\n",
    "vertical_img = b_img.copy()\n",
    "both_img = b_img.copy()"
   ]
  },
  {
   "cell_type": "code",
   "execution_count": 11,
   "metadata": {},
   "outputs": [],
   "source": [
    "horizontal_img = cv2.flip( b_img, 0 )\n",
    "vertical_img = cv2.flip( b_img, 1 )\n",
    "both_img = cv2.flip( b_img, -1 )"
   ]
  },
  {
   "cell_type": "code",
   "execution_count": 12,
   "metadata": {},
   "outputs": [],
   "source": [
    "b_imgi = horizontal_img"
   ]
  },
  {
   "cell_type": "code",
   "execution_count": 13,
   "metadata": {},
   "outputs": [
    {
     "data": {
      "text/plain": [
       "<matplotlib.image.AxesImage at 0x7f454ce6ab70>"
      ]
     },
     "execution_count": 13,
     "metadata": {},
     "output_type": "execute_result"
    },
    {
     "data": {
      "image/png": "[encoded data removed]",
      "text/plain": [
       "<Figure size 432x288 with 1 Axes>"
      ]
     },
     "metadata": {},
     "output_type": "display_data"
    }
   ],
   "source": [
    "plt.imshow(b_imgi)"
   ]
  },
  {
   "cell_type": "code",
   "execution_count": null,
   "metadata": {},
   "outputs": [],
   "source": [
    "# psx = 0\n",
    "# psy = 0\n",
    "# for i in range(b_img.shape[0]):\n",
    "#     for j in range(b_img.shape[1]):\n",
    "#         if(b_img[j][i][0]!=0):\n",
    "#             psx = i\n",
    "#             psy = j\n",
    "#             break\n",
    "#     if(psx!=0):\n",
    "#         break"
   ]
  },
  {
   "cell_type": "code",
   "execution_count": 14,
   "metadata": {},
   "outputs": [],
   "source": [
    "# for one j value we r seeing different values of i, for which pixel intensity is 255. \n",
    "L = []\n",
    "for j in range(b_imgi.shape[1]): \n",
    "    for i in range(b_imgi.shape[0]):\n",
    "        if(b_imgi[i][j][0]==255):\n",
    "            L.append((j,i))"
   ]
  },
  {
   "cell_type": "code",
   "execution_count": 15,
   "metadata": {},
   "outputs": [
    {
     "data": {
      "text/plain": [
       "[(42, 61),\n",
       " (42, 62),\n",
       " (43, 59),\n",
       " (43, 60),\n",
       " (43, 61),\n",
       " (43, 62),\n",
       " (43, 63),\n",
       " (44, 57),\n",
       " (44, 58),\n",
       " (44, 59),\n",
       " (44, 60),\n",
       " (44, 61),\n",
       " (44, 62),\n",
       " (44, 63),\n",
       " (44, 64),\n",
       " (45, 56),\n",
       " (45, 57),\n",
       " (45, 58),\n",
       " (45, 59),\n",
       " (45, 60),\n",
       " (45, 61),\n",
       " (45, 62),\n",
       " (45, 63),\n",
       " (45, 64),\n",
       " (46, 55),\n",
       " (46, 56),\n",
       " (46, 57),\n",
       " (46, 58),\n",
       " (46, 59),\n",
       " (46, 60),\n",
       " (46, 61),\n",
       " (46, 62),\n",
       " (46, 63),\n",
       " (46, 64),\n",
       " (47, 54),\n",
       " (47, 55),\n",
       " (47, 56),\n",
       " (47, 57),\n",
       " (47, 58),\n",
       " (47, 59),\n",
       " (47, 60),\n",
       " (47, 61),\n",
       " (47, 62),\n",
       " (47, 63),\n",
       " (47, 64),\n",
       " (48, 54),\n",
       " (48, 55),\n",
       " (48, 56),\n",
       " (48, 57),\n",
       " (48, 61),\n",
       " (48, 62),\n",
       " (48, 63),\n",
       " (49, 53),\n",
       " (49, 54),\n",
       " (49, 55),\n",
       " (49, 56),\n",
       " (49, 62),\n",
       " (49, 63),\n",
       " (50, 53),\n",
       " (50, 54),\n",
       " (50, 55),\n",
       " (50, 62),\n",
       " (50, 63),\n",
       " (51, 52),\n",
       " (51, 53),\n",
       " (51, 54),\n",
       " (51, 55),\n",
       " (51, 62),\n",
       " (52, 52),\n",
       " (52, 53),\n",
       " (52, 54),\n",
       " (53, 51),\n",
       " (53, 52),\n",
       " (53, 53),\n",
       " (53, 54),\n",
       " (54, 50),\n",
       " (54, 51),\n",
       " (54, 52),\n",
       " (54, 53),\n",
       " (55, 50),\n",
       " (55, 51),\n",
       " (55, 52),\n",
       " (55, 53),\n",
       " (56, 49),\n",
       " (56, 50),\n",
       " (56, 51),\n",
       " (56, 52),\n",
       " (57, 49),\n",
       " (57, 50),\n",
       " (57, 51),\n",
       " (57, 52),\n",
       " (58, 49),\n",
       " (58, 50),\n",
       " (58, 51),\n",
       " (59, 49),\n",
       " (59, 50),\n",
       " (59, 51),\n",
       " (60, 49),\n",
       " (60, 50),\n",
       " (60, 51),\n",
       " (61, 48),\n",
       " (61, 49),\n",
       " (61, 50),\n",
       " (61, 51),\n",
       " (62, 48),\n",
       " (62, 49),\n",
       " (62, 50),\n",
       " (62, 51),\n",
       " (63, 48),\n",
       " (63, 49),\n",
       " (63, 50),\n",
       " (64, 48),\n",
       " (64, 49),\n",
       " (64, 50),\n",
       " (65, 48),\n",
       " (65, 49),\n",
       " (65, 50),\n",
       " (66, 49),\n",
       " (66, 50),\n",
       " (67, 49),\n",
       " (67, 50),\n",
       " (68, 49),\n",
       " (68, 50),\n",
       " (68, 51),\n",
       " (69, 50),\n",
       " (69, 51),\n",
       " (70, 50),\n",
       " (70, 51),\n",
       " (71, 50),\n",
       " (71, 51),\n",
       " (71, 52),\n",
       " (72, 51),\n",
       " (72, 52),\n",
       " (73, 51),\n",
       " (73, 52),\n",
       " (73, 53),\n",
       " (74, 51),\n",
       " (74, 52),\n",
       " (74, 53),\n",
       " (74, 54),\n",
       " (75, 52),\n",
       " (75, 53),\n",
       " (75, 54),\n",
       " (75, 55),\n",
       " (76, 52),\n",
       " (76, 53),\n",
       " (76, 54),\n",
       " (76, 55),\n",
       " (76, 56),\n",
       " (77, 53),\n",
       " (77, 54),\n",
       " (77, 55),\n",
       " (77, 56),\n",
       " (77, 57),\n",
       " (78, 53),\n",
       " (78, 54),\n",
       " (78, 55),\n",
       " (78, 56),\n",
       " (78, 57),\n",
       " (78, 58),\n",
       " (78, 59),\n",
       " (78, 60),\n",
       " (78, 61),\n",
       " (79, 54),\n",
       " (79, 55),\n",
       " (79, 56),\n",
       " (79, 57),\n",
       " (79, 58),\n",
       " (79, 59),\n",
       " (79, 60),\n",
       " (79, 61),\n",
       " (80, 55),\n",
       " (80, 56),\n",
       " (80, 57),\n",
       " (80, 58),\n",
       " (80, 59),\n",
       " (80, 60),\n",
       " (80, 61),\n",
       " (81, 56),\n",
       " (81, 57),\n",
       " (81, 58),\n",
       " (81, 59),\n",
       " (81, 60),\n",
       " (81, 61),\n",
       " (82, 57),\n",
       " (82, 58),\n",
       " (82, 59),\n",
       " (82, 60)]"
      ]
     },
     "execution_count": 15,
     "metadata": {},
     "output_type": "execute_result"
    }
   ],
   "source": [
    "L"
   ]
  },
  {
   "cell_type": "code",
   "execution_count": 16,
   "metadata": {},
   "outputs": [
    {
     "data": {
      "text/plain": [
       "(42, 61)"
      ]
     },
     "execution_count": 16,
     "metadata": {},
     "output_type": "execute_result"
    }
   ],
   "source": [
    "L[0]"
   ]
  },
  {
   "cell_type": "code",
   "execution_count": 17,
   "metadata": {},
   "outputs": [
    {
     "data": {
      "text/plain": [
       "(82, 60)"
      ]
     },
     "execution_count": 17,
     "metadata": {},
     "output_type": "execute_result"
    }
   ],
   "source": [
    "L[-1]"
   ]
  },
  {
   "cell_type": "code",
   "execution_count": 18,
   "metadata": {},
   "outputs": [],
   "source": [
    "from matplotlib.lines import Line2D"
   ]
  },
  {
   "cell_type": "code",
   "execution_count": 19,
   "metadata": {},
   "outputs": [
    {
     "data": {
      "text/plain": [
       "<matplotlib.image.AxesImage at 0x7f454cde2828>"
      ]
     },
     "execution_count": 19,
     "metadata": {},
     "output_type": "execute_result"
    },
    {
     "data": {
      "image/png": "[encoded data removed]",
      "text/plain": [
       "<Figure size 432x288 with 1 Axes>"
      ]
     },
     "metadata": {},
     "output_type": "display_data"
    }
   ],
   "source": [
    "plt.axvline(L[0][0])\n",
    "plt.axvline(L[-1][0])\n",
    "line = Line2D([L[0][0],L[-1][0]],[L[0][1],L[-1][1]])\n",
    "plt.gca().add_line(line)\n",
    "plt.imshow(b_imgi)"
   ]
  },
  {
   "cell_type": "code",
   "execution_count": 20,
   "metadata": {},
   "outputs": [],
   "source": [
    "#Weitelson\n",
    "psx = L[0][0]\n",
    "pex = L[-1][0]\n",
    "distance = L[-1][0] - L[0][0]\n",
    "regions = []\n",
    "regions.append(psx)\n",
    "# regions.append(psx+int((1/3)*distance))\n",
    "# regions.append(psx+int((1/2)*distance))\n",
    "# regions.append(psx+int((2/3)*distance))\n",
    "# regions.append(psx+int((4/5)*distance))\n",
    "#Hofer\n",
    "regions.append(psx+int((1/6)*distance))\n",
    "regions.append(psx+int((1/2)*distance))\n",
    "regions.append(psx+int((2/3)*distance))\n",
    "regions.append(psx+int((3/4)*distance))\n",
    "regions.append\n",
    "regions.append(pex)"
   ]
  },
  {
   "cell_type": "code",
   "execution_count": 21,
   "metadata": {},
   "outputs": [
    {
     "data": {
      "text/plain": [
       "[42, 48, 62, 68, 72, 82]"
      ]
     },
     "execution_count": 21,
     "metadata": {},
     "output_type": "execute_result"
    }
   ],
   "source": [
    "regions"
   ]
  },
  {
   "cell_type": "code",
   "execution_count": 22,
   "metadata": {},
   "outputs": [
    {
     "data": {
      "text/plain": [
       "<matplotlib.image.AxesImage at 0x7f454cd56e48>"
      ]
     },
     "execution_count": 22,
     "metadata": {},
     "output_type": "execute_result"
    },
    {
     "data": {
      "image/png": "[encoded data removed]",
      "text/plain": [
       "<Figure size 432x288 with 1 Axes>"
      ]
     },
     "metadata": {},
     "output_type": "display_data"
    }
   ],
   "source": [
    "plt.axvline(regions[0])\n",
    "plt.axvline(regions[1])\n",
    "plt.axvline(regions[2])\n",
    "plt.axvline(regions[3])\n",
    "plt.axvline(regions[4])\n",
    "plt.axvline(regions[5])\n",
    "line = Line2D([L[0][0],L[-1][0]],[L[0][1],L[-1][1]])\n",
    "plt.gca().add_line(line)\n",
    "plt.imshow(b_imgi)"
   ]
  },
  {
   "cell_type": "code",
   "execution_count": null,
   "metadata": {},
   "outputs": [],
   "source": [
    "-----------------------------------------------------------------------------------------"
   ]
  },
  {
   "cell_type": "code",
   "execution_count": 23,
   "metadata": {},
   "outputs": [
    {
     "data": {
      "text/plain": [
       "<matplotlib.image.AxesImage at 0x7f454ccd27f0>"
      ]
     },
     "execution_count": 23,
     "metadata": {},
     "output_type": "execute_result"
    },
    {
     "data": {
      "image/png": "[encoded data removed]",
      "text/plain": [
       "<Figure size 432x288 with 1 Axes>"
      ]
     },
     "metadata": {},
     "output_type": "display_data"
    }
   ],
   "source": [
    "for i in range(b_imgi.shape[0]):\n",
    "    for j in range(regions[0], regions[1]):\n",
    "        if(b_imgi[i][j][0]!=0):\n",
    "            b_imgi.itemset((i, j, 0), 255)\n",
    "            b_imgi.itemset((i, j, 1), 0)\n",
    "            b_imgi.itemset((i, j, 2), 0)\n",
    "    for j in range(regions[1], regions[2]):\n",
    "        if(b_imgi[i][j][0]!=0):\n",
    "            b_imgi.itemset((i, j, 0), 0)\n",
    "            b_imgi.itemset((i, j, 1), 255)\n",
    "            b_imgi.itemset((i, j, 2), 0)\n",
    "    for j in range(regions[2], regions[3]):\n",
    "        if(b_imgi[i][j][0]!=0):\n",
    "            b_imgi.itemset((i, j, 0), 0)\n",
    "            b_imgi.itemset((i, j, 1), 0)\n",
    "            b_imgi.itemset((i, j, 2), 255)\n",
    "    for j in range(regions[3], regions[4]):\n",
    "        if(b_imgi[i][j][0]!=0):\n",
    "            b_imgi.itemset((i, j, 0), 255)\n",
    "            b_imgi.itemset((i, j, 1), 255)\n",
    "            b_imgi.itemset((i, j, 2), 0)\n",
    "    for j in range(regions[4], regions[5]+1):\n",
    "        if(b_imgi[i][j][0]!=0):\n",
    "            b_imgi.itemset((i, j, 0), 255)\n",
    "            b_imgi.itemset((i, j, 1), 0)\n",
    "            b_imgi.itemset((i, j, 2), 255)\n",
    "line = Line2D([L[0][0],L[-1][0]],[L[0][1],L[-1][1]])\n",
    "# plt.gca().add_line(line)\n",
    "plt.axhline(y=L[0][1])\n",
    "plt.axhline(y= b_imgi.shape[0])\n",
    "# plt.axhline(y=L[-1][1])\n",
    "plt.axvline(regions[0])\n",
    "plt.axvline(regions[2])\n",
    "plt.imshow(b_imgi)"
   ]
  },
  {
   "cell_type": "code",
   "execution_count": 24,
   "metadata": {},
   "outputs": [],
   "source": [
    "#anterior \n",
    "a = b_imgi[L[0][1]][L[0][0]][0]\n",
    "b = b_imgi[L[0][1]][L[0][0]][1]\n",
    "c = b_imgi[L[0][1]][L[0][0]][2]\n",
    "\n",
    "#posterior\n",
    "d = b_imgi[L[-1][1]][L[-1][0]][0]\n",
    "e = b_imgi[L[-1][1]][L[-1][0]][1]\n",
    "f = b_imgi[L[-1][1]][L[-1][0]][2]"
   ]
  },
  {
   "cell_type": "code",
   "execution_count": null,
   "metadata": {},
   "outputs": [],
   "source": [
    "print(a)"
   ]
  },
  {
   "cell_type": "code",
   "execution_count": null,
   "metadata": {},
   "outputs": [],
   "source": [
    "print(b)"
   ]
  },
  {
   "cell_type": "code",
   "execution_count": null,
   "metadata": {},
   "outputs": [],
   "source": [
    "print(c)"
   ]
  },
  {
   "cell_type": "code",
   "execution_count": 25,
   "metadata": {},
   "outputs": [
    {
     "name": "stdout",
     "output_type": "stream",
     "text": [
      "128\n"
     ]
    }
   ],
   "source": [
    "print(b_imgi.shape[0])"
   ]
  },
  {
   "cell_type": "code",
   "execution_count": 26,
   "metadata": {},
   "outputs": [
    {
     "data": {
      "text/plain": [
       "<matplotlib.image.AxesImage at 0x7f454cc99518>"
      ]
     },
     "execution_count": 26,
     "metadata": {},
     "output_type": "execute_result"
    },
    {
     "data": {
      "image/png": "[encoded data removed]",
      "text/plain": [
       "<Figure size 432x288 with 1 Axes>"
      ]
     },
     "metadata": {},
     "output_type": "display_data"
    }
   ],
   "source": [
    "plt.imshow(b_imgi)"
   ]
  },
  {
   "cell_type": "code",
   "execution_count": 27,
   "metadata": {},
   "outputs": [],
   "source": [
    "#parcellate using small assumption that the geometric baseline is a horizontal line for each\n",
    "#assumption half i.e. on anterior and  as well as posterior.\n",
    "\n",
    "#for upright image (original)\n",
    "for j in range(regions[0],regions[3]):\n",
    "    for i in range(L[0][1], b_imgi.shape[0]):\n",
    "        if(b_imgi[i][j][1] == 255):\n",
    "            b_imgi[i][j][0] = a \n",
    "            b_imgi[i][j][1] = b\n",
    "            b_imgi[i][j][2] = c\n",
    "            \n",
    "for j in range(regions[2],regions[5]):\n",
    "    for i in range(L[-1][1], b_imgi.shape[0]):\n",
    "        if(b_imgi[i][j][1] == 255):\n",
    "            b_imgi[i][j][0] = d \n",
    "            b_imgi[i][j][1] = e\n",
    "            b_imgi[i][j][2] = f"
   ]
  },
  {
   "cell_type": "code",
   "execution_count": 28,
   "metadata": {},
   "outputs": [
    {
     "data": {
      "text/plain": [
       "<matplotlib.image.AxesImage at 0x7f454cc0ff28>"
      ]
     },
     "execution_count": 28,
     "metadata": {},
     "output_type": "execute_result"
    },
    {
     "data": {
      "image/png": "[encoded data removed]",
      "text/plain": [
       "<Figure size 432x288 with 1 Axes>"
      ]
     },
     "metadata": {},
     "output_type": "display_data"
    }
   ],
   "source": [
    "plt.imshow(b_imgi)"
   ]
  },
  {
   "cell_type": "code",
   "execution_count": null,
   "metadata": {},
   "outputs": [],
   "source": []
  }
 ],
 "metadata": {
  "file_extension": ".py",
  "kernelspec": {
   "display_name": "Python 3",
   "language": "python",
   "name": "python3"
  },
  "language_info": {
   "codemirror_mode": {
    "name": "ipython",
    "version": 3
   },
   "file_extension": ".py",
   "mimetype": "text/x-python",
   "name": "python",
   "nbconvert_exporter": "python",
   "pygments_lexer": "ipython3",
   "version": "3.6.5"
  },
  "mimetype": "text/x-python",
  "name": "python",
  "npconvert_exporter": "python",
  "pygments_lexer": "ipython3",
  "version": 3
 },
 "nbformat": 4,
 "nbformat_minor": 2
}
