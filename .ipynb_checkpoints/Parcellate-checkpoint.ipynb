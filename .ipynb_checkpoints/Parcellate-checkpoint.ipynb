{
 "cells": [
  {
   "cell_type": "code",
   "execution_count": 1,
   "metadata": {},
   "outputs": [],
   "source": [
    "import cv2\n",
    "from matplotlib import pyplot as plt\n",
    "\n",
    "%matplotlib inline"
   ]
  },
  {
   "cell_type": "code",
   "execution_count": 211,
   "metadata": {},
   "outputs": [],
   "source": [
    "img = cv2.imread('/home/siddharth/Documents/BTP/Parcellation/Data/Segmented/test1.jpg')"
   ]
  },
  {
   "cell_type": "code",
   "execution_count": 3,
   "metadata": {},
   "outputs": [],
   "source": [
    "import numpy as np"
   ]
  },
  {
   "cell_type": "code",
   "execution_count": 213,
   "metadata": {},
   "outputs": [],
   "source": [
    "img_n = img.copy()"
   ]
  },
  {
   "cell_type": "code",
   "execution_count": 214,
   "metadata": {},
   "outputs": [
    {
     "data": {
      "text/plain": [
       "array([  0,   1,   2,   3,   4,   5,   6,  83, 148, 243, 250, 251, 252,\n",
       "       253, 254, 255], dtype=uint8)"
      ]
     },
     "execution_count": 214,
     "metadata": {},
     "output_type": "execute_result"
    }
   ],
   "source": [
    "np.unique(img)"
   ]
  },
  {
   "cell_type": "code",
   "execution_count": 215,
   "metadata": {},
   "outputs": [
    {
     "data": {
      "text/plain": [
       "<matplotlib.image.AxesImage at 0x7f7f3f916dd8>"
      ]
     },
     "execution_count": 215,
     "metadata": {},
     "output_type": "execute_result"
    },
    {
     "data": {
      "image/png": "[encoded data removed]",
      "text/plain": [
       "<Figure size 432x288 with 1 Axes>"
      ]
     },
     "metadata": {},
     "output_type": "display_data"
    }
   ],
   "source": [
    "plt.imshow(img)"
   ]
  },
  {
   "cell_type": "code",
   "execution_count": 216,
   "metadata": {},
   "outputs": [
    {
     "data": {
      "text/plain": [
       "(128, 128, 3)"
      ]
     },
     "execution_count": 216,
     "metadata": {},
     "output_type": "execute_result"
    }
   ],
   "source": [
    "img.shape"
   ]
  },
  {
   "cell_type": "code",
   "execution_count": 217,
   "metadata": {},
   "outputs": [],
   "source": [
    "ret, b_img = cv2.threshold(img,127,255,cv2.THRESH_BINARY)"
   ]
  },
  {
   "cell_type": "code",
   "execution_count": 218,
   "metadata": {},
   "outputs": [
    {
     "data": {
      "text/plain": [
       "<matplotlib.image.AxesImage at 0x7f7f3f875898>"
      ]
     },
     "execution_count": 218,
     "metadata": {},
     "output_type": "execute_result"
    },
    {
     "data": {
      "image/png": "[encoded data removed]",
      "text/plain": [
       "<Figure size 432x288 with 1 Axes>"
      ]
     },
     "metadata": {},
     "output_type": "display_data"
    }
   ],
   "source": [
    "plt.imshow(b_img)\n",
    "#plt.imshow(img)"
   ]
  },
  {
   "cell_type": "code",
   "execution_count": 164,
   "metadata": {},
   "outputs": [],
   "source": [
    "# b_imgi = np.rot90(b_img) # 180 inversion for inverted image"
   ]
  },
  {
   "cell_type": "code",
   "execution_count": 219,
   "metadata": {},
   "outputs": [],
   "source": [
    "horizontal_img = b_img.copy()\n",
    "vertical_img = b_img.copy()\n",
    "both_img = b_img.copy()"
   ]
  },
  {
   "cell_type": "code",
   "execution_count": 277,
   "metadata": {},
   "outputs": [],
   "source": [
    "horizontal_img = cv2.flip( b_img, 0 )\n",
    "vertical_img = cv2.flip( b_img, 1 )\n",
    "both_img = cv2.flip( b_img, -1 )"
   ]
  },
  {
   "cell_type": "code",
   "execution_count": 278,
   "metadata": {},
   "outputs": [],
   "source": [
    "b_imgi = horizontal_img"
   ]
  },
  {
   "cell_type": "code",
   "execution_count": 279,
   "metadata": {},
   "outputs": [
    {
     "data": {
      "text/plain": [
       "<matplotlib.image.AxesImage at 0x7f7f3f076588>"
      ]
     },
     "execution_count": 279,
     "metadata": {},
     "output_type": "execute_result"
    },
    {
     "data": {
      "image/png": "[encoded data removed]",
      "text/plain": [
       "<Figure size 432x288 with 1 Axes>"
      ]
     },
     "metadata": {},
     "output_type": "display_data"
    }
   ],
   "source": [
    "plt.imshow(b_imgi)"
   ]
  },
  {
   "cell_type": "code",
   "execution_count": 190,
   "metadata": {},
   "outputs": [],
   "source": [
    "\n",
    "# psx = 0\n",
    "# psy = 0\n",
    "# for i in range(b_img.shape[0]):\n",
    "#     for j in range(b_img.shape[1]):\n",
    "#         if(b_img[j][i][0]!=0):\n",
    "#             psx = i\n",
    "#             psy = j\n",
    "#             break\n",
    "#     if(psx!=0):\n",
    "#         break"
   ]
  },
  {
   "cell_type": "code",
   "execution_count": 280,
   "metadata": {},
   "outputs": [],
   "source": [
    "# for one j value we r seeing different values of i, for which pixel intensity is 255. \n",
    "L = []\n",
    "for j in range(b_imgi.shape[1]): \n",
    "    for i in range(b_imgi.shape[0]):\n",
    "        if(b_imgi[i][j][0]==255):\n",
    "            L.append((j,i))"
   ]
  },
  {
   "cell_type": "code",
   "execution_count": 224,
   "metadata": {},
   "outputs": [
    {
     "data": {
      "text/plain": [
       "[(42, 61),\n",
       " (42, 62),\n",
       " (43, 59),\n",
       " (43, 60),\n",
       " (43, 61),\n",
       " (43, 62),\n",
       " (43, 63),\n",
       " (44, 57),\n",
       " (44, 58),\n",
       " (44, 59),\n",
       " (44, 60),\n",
       " (44, 61),\n",
       " (44, 62),\n",
       " (44, 63),\n",
       " (44, 64),\n",
       " (45, 56),\n",
       " (45, 57),\n",
       " (45, 58),\n",
       " (45, 59),\n",
       " (45, 60),\n",
       " (45, 61),\n",
       " (45, 62),\n",
       " (45, 63),\n",
       " (45, 64),\n",
       " (46, 55),\n",
       " (46, 56),\n",
       " (46, 57),\n",
       " (46, 58),\n",
       " (46, 59),\n",
       " (46, 60),\n",
       " (46, 61),\n",
       " (46, 62),\n",
       " (46, 63),\n",
       " (46, 64),\n",
       " (47, 54),\n",
       " (47, 55),\n",
       " (47, 56),\n",
       " (47, 57),\n",
       " (47, 58),\n",
       " (47, 59),\n",
       " (47, 60),\n",
       " (47, 61),\n",
       " (47, 62),\n",
       " (47, 63),\n",
       " (47, 64),\n",
       " (48, 54),\n",
       " (48, 55),\n",
       " (48, 56),\n",
       " (48, 57),\n",
       " (48, 61),\n",
       " (48, 62),\n",
       " (48, 63),\n",
       " (49, 53),\n",
       " (49, 54),\n",
       " (49, 55),\n",
       " (49, 56),\n",
       " (49, 62),\n",
       " (49, 63),\n",
       " (50, 53),\n",
       " (50, 54),\n",
       " (50, 55),\n",
       " (50, 62),\n",
       " (50, 63),\n",
       " (51, 52),\n",
       " (51, 53),\n",
       " (51, 54),\n",
       " (51, 55),\n",
       " (51, 62),\n",
       " (52, 52),\n",
       " (52, 53),\n",
       " (52, 54),\n",
       " (53, 51),\n",
       " (53, 52),\n",
       " (53, 53),\n",
       " (53, 54),\n",
       " (54, 50),\n",
       " (54, 51),\n",
       " (54, 52),\n",
       " (54, 53),\n",
       " (55, 50),\n",
       " (55, 51),\n",
       " (55, 52),\n",
       " (55, 53),\n",
       " (56, 49),\n",
       " (56, 50),\n",
       " (56, 51),\n",
       " (56, 52),\n",
       " (57, 49),\n",
       " (57, 50),\n",
       " (57, 51),\n",
       " (57, 52),\n",
       " (58, 49),\n",
       " (58, 50),\n",
       " (58, 51),\n",
       " (59, 49),\n",
       " (59, 50),\n",
       " (59, 51),\n",
       " (60, 49),\n",
       " (60, 50),\n",
       " (60, 51),\n",
       " (61, 48),\n",
       " (61, 49),\n",
       " (61, 50),\n",
       " (61, 51),\n",
       " (62, 48),\n",
       " (62, 49),\n",
       " (62, 50),\n",
       " (62, 51),\n",
       " (63, 48),\n",
       " (63, 49),\n",
       " (63, 50),\n",
       " (64, 48),\n",
       " (64, 49),\n",
       " (64, 50),\n",
       " (65, 48),\n",
       " (65, 49),\n",
       " (65, 50),\n",
       " (66, 49),\n",
       " (66, 50),\n",
       " (67, 49),\n",
       " (67, 50),\n",
       " (68, 49),\n",
       " (68, 50),\n",
       " (68, 51),\n",
       " (69, 50),\n",
       " (69, 51),\n",
       " (70, 50),\n",
       " (70, 51),\n",
       " (71, 50),\n",
       " (71, 51),\n",
       " (71, 52),\n",
       " (72, 51),\n",
       " (72, 52),\n",
       " (73, 51),\n",
       " (73, 52),\n",
       " (73, 53),\n",
       " (74, 51),\n",
       " (74, 52),\n",
       " (74, 53),\n",
       " (74, 54),\n",
       " (75, 52),\n",
       " (75, 53),\n",
       " (75, 54),\n",
       " (75, 55),\n",
       " (76, 52),\n",
       " (76, 53),\n",
       " (76, 54),\n",
       " (76, 55),\n",
       " (76, 56),\n",
       " (77, 53),\n",
       " (77, 54),\n",
       " (77, 55),\n",
       " (77, 56),\n",
       " (77, 57),\n",
       " (78, 53),\n",
       " (78, 54),\n",
       " (78, 55),\n",
       " (78, 56),\n",
       " (78, 57),\n",
       " (78, 58),\n",
       " (78, 59),\n",
       " (78, 60),\n",
       " (78, 61),\n",
       " (79, 54),\n",
       " (79, 55),\n",
       " (79, 56),\n",
       " (79, 57),\n",
       " (79, 58),\n",
       " (79, 59),\n",
       " (79, 60),\n",
       " (79, 61),\n",
       " (80, 55),\n",
       " (80, 56),\n",
       " (80, 57),\n",
       " (80, 58),\n",
       " (80, 59),\n",
       " (80, 60),\n",
       " (80, 61),\n",
       " (81, 56),\n",
       " (81, 57),\n",
       " (81, 58),\n",
       " (81, 59),\n",
       " (81, 60),\n",
       " (81, 61),\n",
       " (82, 57),\n",
       " (82, 58),\n",
       " (82, 59),\n",
       " (82, 60)]"
      ]
     },
     "execution_count": 224,
     "metadata": {},
     "output_type": "execute_result"
    }
   ],
   "source": [
    "L"
   ]
  },
  {
   "cell_type": "code",
   "execution_count": 225,
   "metadata": {},
   "outputs": [
    {
     "data": {
      "text/plain": [
       "(42, 61)"
      ]
     },
     "execution_count": 225,
     "metadata": {},
     "output_type": "execute_result"
    }
   ],
   "source": [
    "L[0]"
   ]
  },
  {
   "cell_type": "code",
   "execution_count": 226,
   "metadata": {},
   "outputs": [
    {
     "data": {
      "text/plain": [
       "(82, 60)"
      ]
     },
     "execution_count": 226,
     "metadata": {},
     "output_type": "execute_result"
    }
   ],
   "source": [
    "L[-1]"
   ]
  },
  {
   "cell_type": "code",
   "execution_count": 281,
   "metadata": {},
   "outputs": [],
   "source": [
    "from matplotlib.lines import Line2D"
   ]
  },
  {
   "cell_type": "code",
   "execution_count": 282,
   "metadata": {},
   "outputs": [
    {
     "data": {
      "text/plain": [
       "<matplotlib.image.AxesImage at 0x7f7f3f056e48>"
      ]
     },
     "execution_count": 282,
     "metadata": {},
     "output_type": "execute_result"
    },
    {
     "data": {
      "image/png": "[encoded data removed]",
      "text/plain": [
       "<Figure size 432x288 with 1 Axes>"
      ]
     },
     "metadata": {},
     "output_type": "display_data"
    }
   ],
   "source": [
    "plt.axvline(L[0][0])\n",
    "plt.axvline(L[-1][0])\n",
    "line = Line2D([L[0][0],L[-1][0]],[L[0][1],L[-1][1]])\n",
    "plt.gca().add_line(line)\n",
    "plt.imshow(b_imgi)"
   ]
  },
  {
   "cell_type": "code",
   "execution_count": 283,
   "metadata": {},
   "outputs": [],
   "source": [
    "#Weitelson\n",
    "psx = L[0][0]\n",
    "pex = L[-1][0]\n",
    "distance = L[-1][0] - L[0][0]\n",
    "regions = []\n",
    "regions.append(psx)\n",
    "# regions.append(psx+int((1/3)*distance))\n",
    "# regions.append(psx+int((1/2)*distance))\n",
    "# regions.append(psx+int((2/3)*distance))\n",
    "# regions.append(psx+int((4/5)*distance))\n",
    "#Hofer\n",
    "regions.append(psx+int((1/6)*distance))\n",
    "regions.append(psx+int((1/2)*distance))\n",
    "regions.append(psx+int((2/3)*distance))\n",
    "regions.append(psx+int((3/4)*distance))\n",
    "regions.append\n",
    "regions.append(pex)"
   ]
  },
  {
   "cell_type": "code",
   "execution_count": 284,
   "metadata": {},
   "outputs": [
    {
     "data": {
      "text/plain": [
       "[42, 48, 62, 68, 72, 82]"
      ]
     },
     "execution_count": 284,
     "metadata": {},
     "output_type": "execute_result"
    }
   ],
   "source": [
    "regions"
   ]
  },
  {
   "cell_type": "code",
   "execution_count": 285,
   "metadata": {},
   "outputs": [
    {
     "data": {
      "text/plain": [
       "<matplotlib.image.AxesImage at 0x7f7f3efcc0b8>"
      ]
     },
     "execution_count": 285,
     "metadata": {},
     "output_type": "execute_result"
    },
    {
     "data": {
      "image/png": "[encoded data removed]",
      "text/plain": [
       "<Figure size 432x288 with 1 Axes>"
      ]
     },
     "metadata": {},
     "output_type": "display_data"
    }
   ],
   "source": [
    "plt.axvline(regions[0])\n",
    "plt.axvline(regions[1])\n",
    "plt.axvline(regions[2])\n",
    "plt.axvline(regions[3])\n",
    "plt.axvline(regions[4])\n",
    "plt.axvline(regions[5])\n",
    "line = Line2D([L[0][0],L[-1][0]],[L[0][1],L[-1][1]])\n",
    "plt.gca().add_line(line)\n",
    "plt.imshow(b_imgi)"
   ]
  },
  {
   "cell_type": "code",
   "execution_count": null,
   "metadata": {},
   "outputs": [],
   "source": [
    "-----------------------------------------------------------------------------------------"
   ]
  },
  {
   "cell_type": "code",
   "execution_count": 286,
   "metadata": {},
   "outputs": [
    {
     "data": {
      "text/plain": [
       "<matplotlib.image.AxesImage at 0x7f7f3ef2cba8>"
      ]
     },
     "execution_count": 286,
     "metadata": {},
     "output_type": "execute_result"
    },
    {
     "data": {
      "image/png": "[encoded data removed]",
      "text/plain": [
       "<Figure size 432x288 with 1 Axes>"
      ]
     },
     "metadata": {},
     "output_type": "display_data"
    }
   ],
   "source": [
    "for i in range(b_imgi.shape[0]):\n",
    "    for j in range(regions[0], regions[1]):\n",
    "        if(b_imgi[i][j][0]!=0):\n",
    "            b_imgi.itemset((i, j, 0), 255)\n",
    "            b_imgi.itemset((i, j, 1), 0)\n",
    "            b_imgi.itemset((i, j, 2), 0)\n",
    "    for j in range(regions[1], regions[2]):\n",
    "        if(b_imgi[i][j][0]!=0):\n",
    "            b_imgi.itemset((i, j, 0),  0)\n",
    "            b_imgi.itemset((i, j, 1), 240)\n",
    "            b_imgi.itemset((i, j, 2), 0)\n",
    "    for j in range(regions[2], regions[3]):\n",
    "        if(b_imgi[i][j][0]!=0):\n",
    "            b_imgi.itemset((i, j, 0), 100)\n",
    "            b_imgi.itemset((i, j, 1), 0)\n",
    "            b_imgi.itemset((i, j, 2), 0)\n",
    "    for j in range(regions[3], regions[4]):\n",
    "        if(b_imgi[i][j][0]!=0):\n",
    "            b_imgi.itemset((i, j, 0), 0)\n",
    "            b_imgi.itemset((i, j, 1), 120)\n",
    "            b_imgi.itemset((i, j, 2), 0)\n",
    "    for j in range(regions[4], regions[5]+1):\n",
    "        if(b_imgi[i][j][0]!=0):\n",
    "            b_imgi.itemset((i, j, 0), 0)\n",
    "            b_imgi.itemset((i, j, 1), 0)\n",
    "            b_imgi.itemset((i, j, 2), 250)\n",
    "line = Line2D([L[0][0],L[-1][0]],[L[0][1],L[-1][1]])\n",
    "# plt.gca().add_line(line)\n",
    "# plt.axhline(y=L[0][1])\n",
    "# plt.axhline(y= b_imgi.shape[0])\n",
    "# # plt.axhline(y=L[-1][1])\n",
    "# plt.axvline(regions[0])\n",
    "# plt.axvline(regions[2])\n",
    "plt.imshow(b_imgi)"
   ]
  },
  {
   "cell_type": "code",
   "execution_count": 287,
   "metadata": {},
   "outputs": [],
   "source": [
    "#anterior \n",
    "a = b_imgi[L[0][1]][L[0][0]][0]\n",
    "b = b_imgi[L[0][1]][L[0][0]][1]\n",
    "c = b_imgi[L[0][1]][L[0][0]][2]\n",
    "\n",
    "#posterior\n",
    "d = b_imgi[L[-1][1]][L[-1][0]][0]\n",
    "e = b_imgi[L[-1][1]][L[-1][0]][1]\n",
    "f = b_imgi[L[-1][1]][L[-1][0]][2]"
   ]
  },
  {
   "cell_type": "code",
   "execution_count": null,
   "metadata": {},
   "outputs": [],
   "source": [
    "print(a)"
   ]
  },
  {
   "cell_type": "code",
   "execution_count": null,
   "metadata": {},
   "outputs": [],
   "source": [
    "print(b)"
   ]
  },
  {
   "cell_type": "code",
   "execution_count": null,
   "metadata": {},
   "outputs": [],
   "source": [
    "print(c)"
   ]
  },
  {
   "cell_type": "code",
   "execution_count": 25,
   "metadata": {},
   "outputs": [
    {
     "name": "stdout",
     "output_type": "stream",
     "text": [
      "128\n"
     ]
    }
   ],
   "source": [
    "print(b_imgi.shape[0])"
   ]
  },
  {
   "cell_type": "code",
   "execution_count": 288,
   "metadata": {},
   "outputs": [
    {
     "data": {
      "text/plain": [
       "<matplotlib.image.AxesImage at 0x7f7f3ef0d198>"
      ]
     },
     "execution_count": 288,
     "metadata": {},
     "output_type": "execute_result"
    },
    {
     "data": {
      "image/png": "[encoded data removed]",
      "text/plain": [
       "<Figure size 432x288 with 1 Axes>"
      ]
     },
     "metadata": {},
     "output_type": "display_data"
    }
   ],
   "source": [
    "plt.imshow(b_imgi)"
   ]
  },
  {
   "cell_type": "code",
   "execution_count": 289,
   "metadata": {},
   "outputs": [],
   "source": [
    "#parcellate using small assumption that the geometric baseline is a horizontal line for each\n",
    "#assumption half i.e. on anterior and  as well as posterior.\n",
    "\n",
    "#for upright image (original)\n",
    "for j in range(regions[0],regions[3]):\n",
    "    for i in range(L[0][1], b_imgi.shape[0]):\n",
    "        if(b_imgi[i][j][1] != 0):\n",
    "            b_imgi[i][j][0] = a \n",
    "            b_imgi[i][j][1] = b\n",
    "            b_imgi[i][j][2] = c\n",
    "            \n",
    "for j in range(regions[2],regions[5]):\n",
    "    for i in range(L[-1][1], b_imgi.shape[0]):\n",
    "        if(b_imgi[i][j][1] != 0):\n",
    "            b_imgi[i][j][0] = d \n",
    "            b_imgi[i][j][1] = e\n",
    "            b_imgi[i][j][2] = f"
   ]
  },
  {
   "cell_type": "code",
   "execution_count": 290,
   "metadata": {},
   "outputs": [
    {
     "data": {
      "text/plain": [
       "<matplotlib.image.AxesImage at 0x7f7f3ee62ba8>"
      ]
     },
     "execution_count": 290,
     "metadata": {},
     "output_type": "execute_result"
    },
    {
     "data": {
      "image/png": "[encoded data removed]",
      "text/plain": [
       "<Figure size 432x288 with 1 Axes>"
      ]
     },
     "metadata": {},
     "output_type": "display_data"
    }
   ],
   "source": [
    "plt.imshow(b_imgi)"
   ]
  },
  {
   "cell_type": "code",
   "execution_count": 291,
   "metadata": {},
   "outputs": [
    {
     "data": {
      "text/plain": [
       "(128, 128, 3)"
      ]
     },
     "execution_count": 291,
     "metadata": {},
     "output_type": "execute_result"
    }
   ],
   "source": [
    "b_imgi.shape"
   ]
  },
  {
   "cell_type": "code",
   "execution_count": 292,
   "metadata": {},
   "outputs": [
    {
     "data": {
      "text/plain": [
       "array([  0, 100, 120, 240, 250, 255], dtype=uint8)"
      ]
     },
     "execution_count": 292,
     "metadata": {},
     "output_type": "execute_result"
    }
   ],
   "source": [
    "np.unique(b_imgi)"
   ]
  },
  {
   "cell_type": "code",
   "execution_count": 204,
   "metadata": {},
   "outputs": [],
   "source": [
    "#plt.imsave('t2.jpg',b_imgi)"
   ]
  },
  {
   "cell_type": "code",
   "execution_count": 73,
   "metadata": {},
   "outputs": [],
   "source": [
    "#import scipy.misc as sm"
   ]
  },
  {
   "cell_type": "code",
   "execution_count": 76,
   "metadata": {},
   "outputs": [
    {
     "name": "stderr",
     "output_type": "stream",
     "text": [
      "/home/siddharth/anaconda3/lib/python3.6/site-packages/ipykernel_launcher.py:1: DeprecationWarning: `imsave` is deprecated!\n",
      "`imsave` is deprecated in SciPy 1.0.0, and will be removed in 1.2.0.\n",
      "Use ``imageio.imwrite`` instead.\n",
      "  \"\"\"Entry point for launching an IPython kernel.\n"
     ]
    }
   ],
   "source": [
    "#sm.imsave('outfile.jpg', b_imgi)"
   ]
  },
  {
   "cell_type": "code",
   "execution_count": 78,
   "metadata": {},
   "outputs": [
    {
     "name": "stderr",
     "output_type": "stream",
     "text": [
      "/home/siddharth/anaconda3/lib/python3.6/site-packages/ipykernel_launcher.py:1: DeprecationWarning: `imread` is deprecated!\n",
      "`imread` is deprecated in SciPy 1.0.0, and will be removed in 1.2.0.\n",
      "Use ``imageio.imread`` instead.\n",
      "  \"\"\"Entry point for launching an IPython kernel.\n"
     ]
    }
   ],
   "source": [
    "#i6= sm.imread('outfile.jpg')"
   ]
  },
  {
   "cell_type": "code",
   "execution_count": 79,
   "metadata": {},
   "outputs": [
    {
     "data": {
      "text/plain": [
       "array([  0,   1,   2,   3,   4,   5,   6,   7,   8,   9,  10,  11,  12,\n",
       "        13,  14,  15,  16,  17,  18,  19,  20,  21,  22,  23,  24,  25,\n",
       "        26,  27,  28,  29,  30,  31,  32,  33,  34,  35,  36,  37,  38,\n",
       "        39,  40,  41,  42,  43,  44,  45,  46,  47,  48,  49,  50,  51,\n",
       "        52,  53,  54,  55,  56,  57,  58,  59,  60,  61,  62,  63,  64,\n",
       "        65,  67,  68,  69,  70,  71,  72,  73,  74,  75,  77,  78,  80,\n",
       "        81,  83,  85,  87,  91,  93,  94,  95,  97,  98,  99, 100, 102,\n",
       "       103, 110, 120, 122, 123, 131, 135, 138, 142, 151, 152, 154, 155,\n",
       "       159, 160, 161, 162, 165, 166, 167, 168, 169, 170, 171, 173, 174,\n",
       "       176, 177, 178, 179, 180, 181, 182, 184, 189, 190, 191, 195, 196,\n",
       "       197, 199, 201, 203, 204, 205, 207, 208, 209, 210, 211, 212, 214,\n",
       "       215, 216, 217, 219, 220, 221, 222, 224, 225, 226, 227, 228, 229,\n",
       "       230, 231, 232, 233, 234, 235, 236, 237, 238, 240, 241, 242, 243,\n",
       "       244, 245, 246, 247, 248, 249, 250, 251, 252, 253, 254, 255],\n",
       "      dtype=uint8)"
      ]
     },
     "execution_count": 79,
     "metadata": {},
     "output_type": "execute_result"
    }
   ],
   "source": [
    "#np.unique(i6)"
   ]
  },
  {
   "cell_type": "code",
   "execution_count": 69,
   "metadata": {},
   "outputs": [],
   "source": [
    "#import matplotlib.image as im"
   ]
  },
  {
   "cell_type": "code",
   "execution_count": 70,
   "metadata": {},
   "outputs": [],
   "source": [
    "#im.imsave('b.jpg',b_imgi)"
   ]
  },
  {
   "cell_type": "code",
   "execution_count": 57,
   "metadata": {},
   "outputs": [],
   "source": [
    "#i4 = plt.imread('b.jpg')"
   ]
  },
  {
   "cell_type": "code",
   "execution_count": 59,
   "metadata": {},
   "outputs": [
    {
     "data": {
      "text/plain": [
       "array([  0,   1,   2,   3,   4,   5,   6,   7,   8,   9,  10,  11,  12,\n",
       "        13,  14,  15,  16,  17,  18,  19,  20,  21,  22,  23,  24,  25,\n",
       "        26,  27,  28,  29,  30,  31,  32,  33,  34,  35,  36,  37,  38,\n",
       "        39,  40,  41,  42,  44,  45,  46,  47,  48,  49,  51,  52,  53,\n",
       "        54,  55,  56,  57,  58,  59,  60,  62,  63,  64,  65,  67,  68,\n",
       "        69,  70,  71,  77,  81,  85,  87,  91,  92, 100, 102, 103, 105,\n",
       "       106, 112, 114, 123, 133, 135, 140, 141, 144, 146, 147, 154, 172,\n",
       "       174, 175, 181, 184, 185, 186, 187, 188, 191, 192, 193, 196, 197,\n",
       "       198, 199, 200, 202, 203, 205, 206, 207, 209, 210, 212, 213, 214,\n",
       "       215, 217, 218, 219, 220, 221, 222, 223, 224, 226, 227, 228, 229,\n",
       "       230, 231, 232, 233, 234, 235, 236, 237, 238, 239, 240, 241, 242,\n",
       "       243, 244, 245, 246, 247, 248, 249, 251, 252, 253, 254, 255],\n",
       "      dtype=uint8)"
      ]
     },
     "execution_count": 59,
     "metadata": {},
     "output_type": "execute_result"
    }
   ],
   "source": [
    "#np.unique(i4)"
   ]
  },
  {
   "cell_type": "code",
   "execution_count": 47,
   "metadata": {},
   "outputs": [],
   "source": [
    "#from PIL import Image"
   ]
  },
  {
   "cell_type": "code",
   "execution_count": 64,
   "metadata": {},
   "outputs": [],
   "source": [
    "#im.save('try.jpg')"
   ]
  },
  {
   "cell_type": "code",
   "execution_count": 65,
   "metadata": {},
   "outputs": [],
   "source": [
    "#im1 = Image.open('try.jpg')"
   ]
  },
  {
   "cell_type": "code",
   "execution_count": 66,
   "metadata": {},
   "outputs": [
    {
     "data": {
      "text/plain": [
       "array([  0,   1,   2,   3,   4,   5,   6,   7,   8,   9,  10,  11,  12,\n",
       "        13,  14,  15,  16,  17,  18,  19,  20,  21,  22,  23,  24,  25,\n",
       "        26,  27,  28,  29,  30,  31,  32,  33,  34,  35,  36,  37,  38,\n",
       "        39,  40,  41,  42,  43,  44,  45,  46,  47,  48,  49,  50,  51,\n",
       "        52,  53,  54,  55,  56,  57,  58,  59,  60,  61,  62,  63,  64,\n",
       "        65,  67,  68,  69,  70,  71,  72,  73,  74,  75,  77,  78,  80,\n",
       "        81,  83,  85,  87,  91,  93,  94,  95,  97,  98,  99, 100, 102,\n",
       "       103, 110, 120, 122, 123, 131, 135, 138, 142, 151, 152, 154, 155,\n",
       "       159, 160, 161, 162, 165, 166, 167, 168, 169, 170, 171, 173, 174,\n",
       "       176, 177, 178, 179, 180, 181, 182, 184, 189, 190, 191, 195, 196,\n",
       "       197, 199, 201, 203, 204, 205, 207, 208, 209, 210, 211, 212, 214,\n",
       "       215, 216, 217, 219, 220, 221, 222, 224, 225, 226, 227, 228, 229,\n",
       "       230, 231, 232, 233, 234, 235, 236, 237, 238, 240, 241, 242, 243,\n",
       "       244, 245, 246, 247, 248, 249, 250, 251, 252, 253, 254, 255],\n",
       "      dtype=uint8)"
      ]
     },
     "execution_count": 66,
     "metadata": {},
     "output_type": "execute_result"
    }
   ],
   "source": [
    "#np.unique(im1)"
   ]
  },
  {
   "cell_type": "code",
   "execution_count": 39,
   "metadata": {},
   "outputs": [],
   "source": [
    "#plt.imsave('b_img.jpg',b_imgi)"
   ]
  },
  {
   "cell_type": "code",
   "execution_count": 40,
   "metadata": {},
   "outputs": [],
   "source": [
    "#i2 = cv2.imread('b_img.jpg')"
   ]
  },
  {
   "cell_type": "code",
   "execution_count": 41,
   "metadata": {},
   "outputs": [
    {
     "data": {
      "text/plain": [
       "array([  0,   1,   2,   3,   4,   5,   6,   7,   8,   9,  10,  11,  12,\n",
       "        13,  14,  15,  16,  17,  18,  19,  20,  21,  22,  23,  24,  25,\n",
       "        26,  27,  28,  29,  30,  31,  32,  33,  34,  35,  36,  37,  38,\n",
       "        39,  40,  41,  42,  43,  44,  45,  46,  47,  48,  49,  50,  51,\n",
       "        52,  53,  54,  55,  56,  57,  58,  59,  60,  61,  62,  63,  64,\n",
       "        65,  66,  67,  69,  70,  71,  72,  73,  74,  76,  77,  78,  79,\n",
       "        90,  91,  94, 101, 106, 109, 116, 117, 121, 123, 124, 125, 126,\n",
       "       127, 129, 132, 137, 147, 149, 155, 156, 159, 165, 169, 170, 172,\n",
       "       174, 176, 177, 178, 179, 180, 181, 182, 183, 184, 185, 186, 187,\n",
       "       189, 190, 191, 192, 193, 195, 196, 197, 198, 199, 201, 202, 203,\n",
       "       204, 205, 206, 207, 208, 209, 210, 211, 212, 213, 214, 215, 216,\n",
       "       217, 219, 220, 221, 222, 223, 224, 225, 226, 227, 228, 229, 230,\n",
       "       231, 232, 233, 234, 235, 236, 237, 238, 239, 240, 241, 242, 243,\n",
       "       244, 245, 246, 247, 248, 249, 250, 251, 252, 253, 254, 255],\n",
       "      dtype=uint8)"
      ]
     },
     "execution_count": 41,
     "metadata": {},
     "output_type": "execute_result"
    }
   ],
   "source": [
    "#np.unique(i2)"
   ]
  },
  {
   "cell_type": "code",
   "execution_count": 42,
   "metadata": {},
   "outputs": [],
   "source": [
    "#i3 = plt.imread('b_img.jpg')"
   ]
  },
  {
   "cell_type": "code",
   "execution_count": 43,
   "metadata": {},
   "outputs": [
    {
     "data": {
      "text/plain": [
       "array([  0,   1,   2,   3,   4,   5,   6,   7,   8,   9,  10,  11,  12,\n",
       "        13,  14,  15,  16,  17,  18,  19,  20,  21,  22,  23,  24,  25,\n",
       "        26,  27,  28,  29,  30,  31,  32,  33,  34,  35,  36,  37,  38,\n",
       "        39,  40,  41,  42,  44,  45,  46,  47,  48,  49,  51,  52,  53,\n",
       "        54,  55,  56,  57,  58,  59,  60,  62,  63,  64,  65,  67,  68,\n",
       "        69,  70,  71,  77,  81,  85,  87,  91,  92, 100, 102, 103, 105,\n",
       "       106, 112, 114, 123, 133, 135, 140, 141, 144, 146, 147, 154, 172,\n",
       "       174, 175, 181, 184, 185, 186, 187, 188, 191, 192, 193, 196, 197,\n",
       "       198, 199, 200, 202, 203, 205, 206, 207, 209, 210, 212, 213, 214,\n",
       "       215, 217, 218, 219, 220, 221, 222, 223, 224, 226, 227, 228, 229,\n",
       "       230, 231, 232, 233, 234, 235, 236, 237, 238, 239, 240, 241, 242,\n",
       "       243, 244, 245, 246, 247, 248, 249, 251, 252, 253, 254, 255],\n",
       "      dtype=uint8)"
      ]
     },
     "execution_count": 43,
     "metadata": {},
     "output_type": "execute_result"
    }
   ],
   "source": [
    "#np.unique(i3)"
   ]
  },
  {
   "cell_type": "code",
   "execution_count": 44,
   "metadata": {},
   "outputs": [
    {
     "data": {
      "text/plain": [
       "(128, 128, 3)"
      ]
     },
     "execution_count": 44,
     "metadata": {},
     "output_type": "execute_result"
    }
   ],
   "source": [
    "#i3.shape"
   ]
  },
  {
   "cell_type": "code",
   "execution_count": 46,
   "metadata": {},
   "outputs": [
    {
     "data": {
      "text/plain": [
       "(128, 128, 3)"
      ]
     },
     "execution_count": 46,
     "metadata": {},
     "output_type": "execute_result"
    }
   ],
   "source": [
    "#i2.shape"
   ]
  },
  {
   "cell_type": "code",
   "execution_count": 82,
   "metadata": {},
   "outputs": [
    {
     "data": {
      "text/plain": [
       "(128, 128, 3)"
      ]
     },
     "execution_count": 82,
     "metadata": {},
     "output_type": "execute_result"
    }
   ],
   "source": [
    "#b_imgi.shape"
   ]
  },
  {
   "cell_type": "code",
   "execution_count": 293,
   "metadata": {},
   "outputs": [],
   "source": [
    "#np.save('b_im.npy',b_imgi)"
   ]
  },
  {
   "cell_type": "code",
   "execution_count": 17,
   "metadata": {},
   "outputs": [],
   "source": [
    "#i7 = np.load('b_im.npy')"
   ]
  },
  {
   "cell_type": "code",
   "execution_count": 18,
   "metadata": {},
   "outputs": [
    {
     "data": {
      "text/plain": [
       "(128, 128, 3)"
      ]
     },
     "execution_count": 18,
     "metadata": {},
     "output_type": "execute_result"
    }
   ],
   "source": [
    "#i7.shape"
   ]
  },
  {
   "cell_type": "code",
   "execution_count": 19,
   "metadata": {},
   "outputs": [
    {
     "data": {
      "text/plain": [
       "array([  0, 100, 120, 240, 250, 255], dtype=uint8)"
      ]
     },
     "execution_count": 19,
     "metadata": {},
     "output_type": "execute_result"
    }
   ],
   "source": [
    "#np.unique(i7)"
   ]
  },
  {
   "cell_type": "code",
   "execution_count": 20,
   "metadata": {},
   "outputs": [
    {
     "data": {
      "text/plain": [
       "<matplotlib.image.AxesImage at 0x7fad8580b240>"
      ]
     },
     "execution_count": 20,
     "metadata": {},
     "output_type": "execute_result"
    },
    {
     "data": {
      "image/png": "[encoded data removed]",
      "text/plain": [
       "<Figure size 432x288 with 1 Axes>"
      ]
     },
     "metadata": {},
     "output_type": "display_data"
    }
   ],
   "source": [
    "#plt.imshow(i7)"
   ]
  },
  {
   "cell_type": "code",
   "execution_count": 21,
   "metadata": {},
   "outputs": [],
   "source": [
    "#imgc = i7.copy()"
   ]
  },
  {
   "cell_type": "code",
   "execution_count": 299,
   "metadata": {},
   "outputs": [
    {
     "data": {
      "text/plain": [
       "(array([54, 55, 55, 56, 56, 56, 57, 57, 57, 57, 58, 58, 58, 58, 59, 59, 59,\n",
       "        59, 59, 60, 60, 60, 60, 60, 61, 61, 61, 61, 61, 61, 61, 62, 62, 62,\n",
       "        62, 62, 62, 62, 62, 62, 62, 63, 63, 63, 63, 63, 63, 63, 63, 64, 64,\n",
       "        64, 64]),\n",
       " array([47, 46, 47, 45, 46, 47, 44, 45, 46, 47, 44, 45, 46, 47, 43, 44, 45,\n",
       "        46, 47, 43, 44, 45, 46, 47, 42, 43, 44, 45, 46, 47, 48, 42, 43, 44,\n",
       "        45, 46, 47, 48, 49, 50, 51, 43, 44, 45, 46, 47, 48, 49, 50, 44, 45,\n",
       "        46, 47]),\n",
       " array([0, 0, 0, 0, 0, 0, 0, 0, 0, 0, 0, 0, 0, 0, 0, 0, 0, 0, 0, 0, 0, 0,\n",
       "        0, 0, 0, 0, 0, 0, 0, 0, 0, 0, 0, 0, 0, 0, 0, 0, 0, 0, 0, 0, 0, 0,\n",
       "        0, 0, 0, 0, 0, 0, 0, 0, 0]))"
      ]
     },
     "execution_count": 299,
     "metadata": {},
     "output_type": "execute_result"
    }
   ],
   "source": [
    "#np.where(imgc==255)"
   ]
  },
  {
   "cell_type": "code",
   "execution_count": 300,
   "metadata": {},
   "outputs": [],
   "source": [
    "#a = np.where(imgc==255)"
   ]
  },
  {
   "cell_type": "code",
   "execution_count": 301,
   "metadata": {},
   "outputs": [
    {
     "data": {
      "text/plain": [
       "(array([54, 55, 55, 56, 56, 56, 57, 57, 57, 57, 58, 58, 58, 58, 59, 59, 59,\n",
       "        59, 59, 60, 60, 60, 60, 60, 61, 61, 61, 61, 61, 61, 61, 62, 62, 62,\n",
       "        62, 62, 62, 62, 62, 62, 62, 63, 63, 63, 63, 63, 63, 63, 63, 64, 64,\n",
       "        64, 64]),\n",
       " array([47, 46, 47, 45, 46, 47, 44, 45, 46, 47, 44, 45, 46, 47, 43, 44, 45,\n",
       "        46, 47, 43, 44, 45, 46, 47, 42, 43, 44, 45, 46, 47, 48, 42, 43, 44,\n",
       "        45, 46, 47, 48, 49, 50, 51, 43, 44, 45, 46, 47, 48, 49, 50, 44, 45,\n",
       "        46, 47]),\n",
       " array([0, 0, 0, 0, 0, 0, 0, 0, 0, 0, 0, 0, 0, 0, 0, 0, 0, 0, 0, 0, 0, 0,\n",
       "        0, 0, 0, 0, 0, 0, 0, 0, 0, 0, 0, 0, 0, 0, 0, 0, 0, 0, 0, 0, 0, 0,\n",
       "        0, 0, 0, 0, 0, 0, 0, 0, 0]))"
      ]
     },
     "execution_count": 301,
     "metadata": {},
     "output_type": "execute_result"
    }
   ],
   "source": [
    "#a"
   ]
  },
  {
   "cell_type": "code",
   "execution_count": 304,
   "metadata": {},
   "outputs": [
    {
     "data": {
      "text/plain": [
       "0"
      ]
     },
     "execution_count": 304,
     "metadata": {},
     "output_type": "execute_result"
    }
   ],
   "source": [
    "#c = a[2][0]\n",
    "#c"
   ]
  },
  {
   "cell_type": "code",
   "execution_count": 312,
   "metadata": {},
   "outputs": [
    {
     "data": {
      "text/plain": [
       "47"
      ]
     },
     "execution_count": 312,
     "metadata": {},
     "output_type": "execute_result"
    }
   ],
   "source": [
    "#a[1][0]"
   ]
  },
  {
   "cell_type": "code",
   "execution_count": 305,
   "metadata": {},
   "outputs": [],
   "source": [
    "#ind = np.zeros((128,128))"
   ]
  },
  {
   "cell_type": "code",
   "execution_count": 9,
   "metadata": {},
   "outputs": [],
   "source": [
    "# dic = { 0: 0,\n",
    "#             255:1, \n",
    "#             240:2,\n",
    "#             100:3,\n",
    "#             120:4,\n",
    "#             250:5   }"
   ]
  },
  {
   "cell_type": "code",
   "execution_count": 319,
   "metadata": {},
   "outputs": [
    {
     "data": {
      "text/plain": [
       "2"
      ]
     },
     "execution_count": 319,
     "metadata": {},
     "output_type": "execute_result"
    }
   ],
   "source": [
    "#dic[240]"
   ]
  },
  {
   "cell_type": "code",
   "execution_count": 307,
   "metadata": {},
   "outputs": [
    {
     "data": {
      "text/plain": [
       "{0: 0, 255: 1, 240: 2, 100: 3, 120: 4, 250: 5}"
      ]
     },
     "execution_count": 307,
     "metadata": {},
     "output_type": "execute_result"
    }
   ],
   "source": [
    "#dic"
   ]
  },
  {
   "cell_type": "code",
   "execution_count": 315,
   "metadata": {},
   "outputs": [
    {
     "data": {
      "text/plain": [
       "53"
      ]
     },
     "execution_count": 315,
     "metadata": {},
     "output_type": "execute_result"
    }
   ],
   "source": [
    "#a[0].shape[0]"
   ]
  },
  {
   "cell_type": "code",
   "execution_count": 316,
   "metadata": {},
   "outputs": [
    {
     "data": {
      "text/plain": [
       "53"
      ]
     },
     "execution_count": 316,
     "metadata": {},
     "output_type": "execute_result"
    }
   ],
   "source": [
    "#a[1].shape[0]"
   ]
  },
  {
   "cell_type": "code",
   "execution_count": 322,
   "metadata": {},
   "outputs": [
    {
     "data": {
      "text/plain": [
       "array([54, 55, 55, 56, 56, 56, 57, 57, 57, 57, 58, 58, 58, 58, 59, 59, 59,\n",
       "       59, 59, 60, 60, 60, 60, 60, 61, 61, 61, 61, 61, 61, 61, 62, 62, 62,\n",
       "       62, 62, 62, 62, 62, 62, 62, 63, 63, 63, 63, 63, 63, 63, 63, 64, 64,\n",
       "       64, 64])"
      ]
     },
     "execution_count": 322,
     "metadata": {},
     "output_type": "execute_result"
    }
   ],
   "source": [
    "#a[0]"
   ]
  },
  {
   "cell_type": "code",
   "execution_count": 40,
   "metadata": {},
   "outputs": [],
   "source": [
    "# a = np.where[imgc==0]"
   ]
  },
  {
   "cell_type": "code",
   "execution_count": 41,
   "metadata": {},
   "outputs": [],
   "source": [
    "# for i in dic:\n",
    "#     a = np.where(imgc==i)\n",
    "#     b = a[0].shape[0]\n",
    "#     c = a[1].shape[0]\n",
    "#     ch = a[2][0]\n",
    "#     for j in range(b):\n",
    "#         for k in range(c):\n",
    "#             fir = a[0][j]\n",
    "#             sec = a[1][k]\n",
    "#             ind[fir][sec] = dic[i]"
   ]
  },
  {
   "cell_type": "code",
   "execution_count": 22,
   "metadata": {},
   "outputs": [],
   "source": [
    "# for i in dic:\n",
    "#     imgc[imgc==i] = dic[i] "
   ]
  },
  {
   "cell_type": "code",
   "execution_count": 23,
   "metadata": {},
   "outputs": [
    {
     "data": {
      "text/plain": [
       "array([0, 1, 2, 3, 4, 5], dtype=uint8)"
      ]
     },
     "execution_count": 23,
     "metadata": {},
     "output_type": "execute_result"
    }
   ],
   "source": [
    "# np.unique(imgc)"
   ]
  },
  {
   "cell_type": "code",
   "execution_count": 24,
   "metadata": {},
   "outputs": [
    {
     "data": {
      "text/plain": [
       "(128, 128, 3)"
      ]
     },
     "execution_count": 24,
     "metadata": {},
     "output_type": "execute_result"
    }
   ],
   "source": [
    "#imgc.shape"
   ]
  },
  {
   "cell_type": "code",
   "execution_count": 27,
   "metadata": {},
   "outputs": [],
   "source": [
    "#rand = np.zeros((imgc.shape[0], imgc.shape[1]))"
   ]
  },
  {
   "cell_type": "code",
   "execution_count": 28,
   "metadata": {},
   "outputs": [
    {
     "data": {
      "text/plain": [
       "(128, 128)"
      ]
     },
     "execution_count": 28,
     "metadata": {},
     "output_type": "execute_result"
    }
   ],
   "source": [
    "#rand.shape"
   ]
  },
  {
   "cell_type": "code",
   "execution_count": 29,
   "metadata": {},
   "outputs": [],
   "source": [
    "#rand = imgc[:,:,0] + imgc[:,:,1] + imgc[:,:,2]"
   ]
  },
  {
   "cell_type": "code",
   "execution_count": 30,
   "metadata": {},
   "outputs": [
    {
     "data": {
      "text/plain": [
       "(128, 128, 3)"
      ]
     },
     "execution_count": 30,
     "metadata": {},
     "output_type": "execute_result"
    }
   ],
   "source": [
    "#imgc.shape"
   ]
  },
  {
   "cell_type": "code",
   "execution_count": 31,
   "metadata": {},
   "outputs": [
    {
     "data": {
      "text/plain": [
       "(128, 128)"
      ]
     },
     "execution_count": 31,
     "metadata": {},
     "output_type": "execute_result"
    }
   ],
   "source": [
    "#rand.shape"
   ]
  },
  {
   "cell_type": "code",
   "execution_count": 32,
   "metadata": {},
   "outputs": [
    {
     "data": {
      "text/plain": [
       "array([0, 1, 2, 3, 4, 5], dtype=uint8)"
      ]
     },
     "execution_count": 32,
     "metadata": {},
     "output_type": "execute_result"
    }
   ],
   "source": [
    "#np.unique(imgc)"
   ]
  },
  {
   "cell_type": "code",
   "execution_count": 33,
   "metadata": {},
   "outputs": [
    {
     "data": {
      "text/plain": [
       "array([0, 1, 2, 3, 4, 5], dtype=uint8)"
      ]
     },
     "execution_count": 33,
     "metadata": {},
     "output_type": "execute_result"
    }
   ],
   "source": [
    "#np.unique(rand)"
   ]
  },
  {
   "cell_type": "code",
   "execution_count": 38,
   "metadata": {},
   "outputs": [
    {
     "data": {
      "text/plain": [
       "17"
      ]
     },
     "execution_count": 38,
     "metadata": {},
     "output_type": "execute_result"
    }
   ],
   "source": [
    "#np.where(rand==3)[1].shape[0]"
   ]
  },
  {
   "cell_type": "code",
   "execution_count": 39,
   "metadata": {},
   "outputs": [
    {
     "data": {
      "text/plain": [
       "17"
      ]
     },
     "execution_count": 39,
     "metadata": {},
     "output_type": "execute_result"
    }
   ],
   "source": [
    "#np.where(imgc==3)[2].shape[0]"
   ]
  },
  {
   "cell_type": "code",
   "execution_count": null,
   "metadata": {},
   "outputs": [],
   "source": []
  }
 ],
 "metadata": {
  "file_extension": ".py",
  "kernelspec": {
   "display_name": "Python 3",
   "language": "python",
   "name": "python3"
  },
  "language_info": {
   "codemirror_mode": {
    "name": "ipython",
    "version": 3
   },
   "file_extension": ".py",
   "mimetype": "text/x-python",
   "name": "python",
   "nbconvert_exporter": "python",
   "pygments_lexer": "ipython3",
   "version": "3.6.5"
  },
  "mimetype": "text/x-python",
  "name": "python",
  "npconvert_exporter": "python",
  "pygments_lexer": "ipython3",
  "version": 3
 },
 "nbformat": 4,
 "nbformat_minor": 2
}
